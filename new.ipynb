{
 "cells": [
  {
   "cell_type": "code",
   "execution_count": 8,
   "source": [
    "import pandas as pd\n",
    "import plotly.express as px"
   ],
   "outputs": [],
   "metadata": {}
  },
  {
   "cell_type": "code",
   "execution_count": null,
   "source": [],
   "outputs": [],
   "metadata": {}
  },
  {
   "cell_type": "code",
   "execution_count": 4,
   "source": [
    "rentals= pd.read_csv(\"https://raw.githubusercontent.com/juliandnl/redi_ss20/master/berlin_rental.csv\")\n"
   ],
   "outputs": [],
   "metadata": {}
  },
  {
   "cell_type": "code",
   "execution_count": 5,
   "source": [
    "rentals\n",
    "rentals.shape\n",
    "rentals.info"
   ],
   "outputs": [
    {
     "output_type": "execute_result",
     "data": {
      "text/plain": [
       "<bound method DataFrame.info of           Region        Condition  Rooms     Rent  Year_Construction   Space\n",
       "0          Mitte   first_time_use    4.0  2659.00               2019  117.20\n",
       "1      Kreuzberg   first_time_use    1.0  1200.00               2020   29.33\n",
       "2       Köpenick        well_kept    2.0   979.00               1997   83.61\n",
       "3    Wilmersdorf        well_kept    4.0  1830.22               1900  171.18\n",
       "4      Kreuzberg   first_time_use    2.0  2272.00               2020   88.27\n",
       "..           ...              ...    ...      ...                ...     ...\n",
       "759      Wedding   mint_condition    1.0   959.00               2017   27.80\n",
       "760      Wedding   mint_condition    1.0   649.00               2017   20.50\n",
       "761  Wilmersdorf   mint_condition    4.0  2750.00               2017  110.00\n",
       "762     Köpenick        well_kept    2.0  1259.00               2017   91.20\n",
       "763     Neukölln  fully_renovated    2.0   888.00               1990   68.48\n",
       "\n",
       "[764 rows x 6 columns]>"
      ]
     },
     "metadata": {},
     "execution_count": 5
    }
   ],
   "metadata": {}
  },
  {
   "cell_type": "code",
   "execution_count": null,
   "source": [],
   "outputs": [],
   "metadata": {}
  },
  {
   "cell_type": "code",
   "execution_count": 13,
   "source": [
    "#In which conditions are the flats\n",
    "rentals['Condition']\n",
    "State = rentals.Condition.value_counts\n",
    "State"
   ],
   "outputs": [
    {
     "output_type": "execute_result",
     "data": {
      "text/plain": [
       "<bound method IndexOpsMixin.value_counts of 0       first_time_use\n",
       "1       first_time_use\n",
       "2            well_kept\n",
       "3            well_kept\n",
       "4       first_time_use\n",
       "            ...       \n",
       "759     mint_condition\n",
       "760     mint_condition\n",
       "761     mint_condition\n",
       "762          well_kept\n",
       "763    fully_renovated\n",
       "Name: Condition, Length: 764, dtype: object>"
      ]
     },
     "metadata": {},
     "execution_count": 13
    }
   ],
   "metadata": {}
  },
  {
   "cell_type": "code",
   "execution_count": 14,
   "source": [
    "px.bar(rentals, x = \"Condition\")"
   ],
   "outputs": [
    {
     "output_type": "display_data",
     "data": {
      "application/vnd.plotly.v1+json": {
       "config": {
        "plotlyServerURL": "https://plot.ly"
       },
       "data": [
        {
         "alignmentgroup": "True",
         "hovertemplate": "Condition=%{x}<br>count=%{y}<extra></extra>",
         "legendgroup": "",
         "marker": {
          "color": "#636efa"
         },
         "name": "",
         "offsetgroup": "",
         "orientation": "v",
         "showlegend": false,
         "textposition": "auto",
         "type": "bar",
         "x": [
          "first_time_use",
          "first_time_use",
          "well_kept",
          "well_kept",
          "first_time_use",
          "well_kept",
          "mint_condition",
          "well_kept",
          "well_kept",
          "first_time_use",
          "first_time_use",
          "first_time_use",
          "first_time_use",
          "mint_condition",
          "first_time_use",
          "well_kept",
          "first_time_use",
          "mint_condition",
          "first_time_use",
          "first_time_use",
          "no_information",
          "well_kept",
          "mint_condition",
          "no_information",
          "mint_condition",
          "no_information",
          "mint_condition",
          "mint_condition",
          "first_time_use",
          "mint_condition",
          "first_time_use",
          "first_time_use",
          "fully_renovated",
          "mint_condition",
          "mint_condition",
          "first_time_use",
          "first_time_use",
          "well_kept",
          "no_information",
          "first_time_use",
          "fully_renovated",
          "fully_renovated",
          "no_information",
          "no_information",
          "first_time_use",
          "first_time_use",
          "mint_condition",
          "well_kept",
          "first_time_use",
          "no_information",
          "mint_condition",
          "first_time_use_after_refurbishment",
          "first_time_use",
          "fully_renovated",
          "first_time_use",
          "first_time_use",
          "well_kept",
          "first_time_use",
          "well_kept",
          "mint_condition",
          "first_time_use",
          "mint_condition",
          "first_time_use",
          "no_information",
          "mint_condition",
          "first_time_use",
          "first_time_use",
          "first_time_use",
          "mint_condition",
          "no_information",
          "first_time_use_after_refurbishment",
          "first_time_use",
          "mint_condition",
          "mint_condition",
          "mint_condition",
          "fully_renovated",
          "first_time_use",
          "first_time_use",
          "fully_renovated",
          "first_time_use_after_refurbishment",
          "no_information",
          "first_time_use",
          "first_time_use",
          "first_time_use",
          "well_kept",
          "first_time_use",
          "refurbished",
          "mint_condition",
          "no_information",
          "no_information",
          "mint_condition",
          "modernized",
          "mint_condition",
          "mint_condition",
          "first_time_use",
          "mint_condition",
          "mint_condition",
          "no_information",
          "fully_renovated",
          "no_information",
          "mint_condition",
          "first_time_use_after_refurbishment",
          "mint_condition",
          "mint_condition",
          "mint_condition",
          "no_information",
          "mint_condition",
          "mint_condition",
          "mint_condition",
          "mint_condition",
          "no_information",
          "mint_condition",
          "mint_condition",
          "no_information",
          "modernized",
          "well_kept",
          "first_time_use_after_refurbishment",
          "mint_condition",
          "mint_condition",
          "mint_condition",
          "first_time_use",
          "first_time_use",
          "first_time_use",
          "no_information",
          "first_time_use_after_refurbishment",
          "no_information",
          "no_information",
          "modernized",
          "first_time_use",
          "no_information",
          "no_information",
          "mint_condition",
          "no_information",
          "no_information",
          "no_information",
          "no_information",
          "no_information",
          "mint_condition",
          "first_time_use",
          "first_time_use",
          "first_time_use",
          "well_kept",
          "mint_condition",
          "first_time_use",
          "first_time_use",
          "first_time_use",
          "first_time_use_after_refurbishment",
          "first_time_use",
          "mint_condition",
          "mint_condition",
          "first_time_use",
          "mint_condition",
          "no_information",
          "first_time_use",
          "mint_condition",
          "well_kept",
          "fully_renovated",
          "fully_renovated",
          "no_information",
          "mint_condition",
          "first_time_use",
          "well_kept",
          "no_information",
          "first_time_use",
          "well_kept",
          "well_kept",
          "well_kept",
          "first_time_use",
          "first_time_use",
          "well_kept",
          "well_kept",
          "well_kept",
          "well_kept",
          "first_time_use_after_refurbishment",
          "well_kept",
          "first_time_use",
          "first_time_use_after_refurbishment",
          "well_kept",
          "need_of_renovation",
          "need_of_renovation",
          "no_information",
          "no_information",
          "need_of_renovation",
          "mint_condition",
          "modernized",
          "no_information",
          "mint_condition",
          "mint_condition",
          "first_time_use",
          "first_time_use",
          "no_information",
          "mint_condition",
          "first_time_use",
          "first_time_use",
          "no_information",
          "modernized",
          "no_information",
          "no_information",
          "no_information",
          "mint_condition",
          "mint_condition",
          "first_time_use_after_refurbishment",
          "well_kept",
          "mint_condition",
          "no_information",
          "no_information",
          "well_kept",
          "well_kept",
          "well_kept",
          "first_time_use_after_refurbishment",
          "first_time_use",
          "well_kept",
          "no_information",
          "mint_condition",
          "no_information",
          "refurbished",
          "first_time_use",
          "mint_condition",
          "first_time_use",
          "no_information",
          "mint_condition",
          "first_time_use",
          "first_time_use",
          "first_time_use_after_refurbishment",
          "mint_condition",
          "first_time_use",
          "fully_renovated",
          "no_information",
          "no_information",
          "well_kept",
          "well_kept",
          "well_kept",
          "no_information",
          "well_kept",
          "well_kept",
          "first_time_use",
          "refurbished",
          "first_time_use",
          "well_kept",
          "well_kept",
          "no_information",
          "well_kept",
          "refurbished",
          "first_time_use_after_refurbishment",
          "refurbished",
          "no_information",
          "first_time_use",
          "first_time_use_after_refurbishment",
          "well_kept",
          "no_information",
          "no_information",
          "first_time_use_after_refurbishment",
          "first_time_use_after_refurbishment",
          "first_time_use",
          "first_time_use",
          "first_time_use",
          "first_time_use",
          "first_time_use",
          "well_kept",
          "first_time_use",
          "no_information",
          "first_time_use",
          "first_time_use",
          "well_kept",
          "need_of_renovation",
          "well_kept",
          "mint_condition",
          "well_kept",
          "mint_condition",
          "mint_condition",
          "well_kept",
          "mint_condition",
          "well_kept",
          "well_kept",
          "well_kept",
          "well_kept",
          "first_time_use",
          "mint_condition",
          "no_information",
          "first_time_use_after_refurbishment",
          "well_kept",
          "first_time_use",
          "well_kept",
          "first_time_use_after_refurbishment",
          "refurbished",
          "first_time_use",
          "no_information",
          "no_information",
          "mint_condition",
          "no_information",
          "first_time_use",
          "first_time_use",
          "mint_condition",
          "no_information",
          "first_time_use",
          "mint_condition",
          "mint_condition",
          "no_information",
          "first_time_use_after_refurbishment",
          "no_information",
          "mint_condition",
          "no_information",
          "well_kept",
          "well_kept",
          "mint_condition",
          "no_information",
          "mint_condition",
          "no_information",
          "no_information",
          "no_information",
          "mint_condition",
          "mint_condition",
          "mint_condition",
          "no_information",
          "mint_condition",
          "mint_condition",
          "mint_condition",
          "first_time_use",
          "well_kept",
          "first_time_use_after_refurbishment",
          "first_time_use_after_refurbishment",
          "first_time_use_after_refurbishment",
          "well_kept",
          "mint_condition",
          "well_kept",
          "first_time_use_after_refurbishment",
          "mint_condition",
          "fully_renovated",
          "first_time_use",
          "no_information",
          "mint_condition",
          "first_time_use",
          "mint_condition",
          "first_time_use",
          "refurbished",
          "first_time_use",
          "mint_condition",
          "fully_renovated",
          "mint_condition",
          "first_time_use",
          "modernized",
          "first_time_use",
          "modernized",
          "fully_renovated",
          "first_time_use",
          "first_time_use_after_refurbishment",
          "first_time_use",
          "mint_condition",
          "mint_condition",
          "mint_condition",
          "first_time_use",
          "mint_condition",
          "first_time_use",
          "mint_condition",
          "first_time_use",
          "mint_condition",
          "first_time_use",
          "fully_renovated",
          "first_time_use",
          "fully_renovated",
          "well_kept",
          "fully_renovated",
          "first_time_use",
          "first_time_use",
          "well_kept",
          "refurbished",
          "first_time_use",
          "first_time_use",
          "well_kept",
          "well_kept",
          "first_time_use_after_refurbishment",
          "first_time_use_after_refurbishment",
          "no_information",
          "mint_condition",
          "mint_condition",
          "mint_condition",
          "first_time_use",
          "first_time_use",
          "first_time_use",
          "fully_renovated",
          "first_time_use",
          "first_time_use",
          "first_time_use",
          "first_time_use",
          "first_time_use",
          "modernized",
          "first_time_use_after_refurbishment",
          "no_information",
          "refurbished",
          "well_kept",
          "first_time_use",
          "fully_renovated",
          "well_kept",
          "mint_condition",
          "first_time_use",
          "first_time_use",
          "well_kept",
          "well_kept",
          "first_time_use",
          "refurbished",
          "modernized",
          "refurbished",
          "first_time_use",
          "mint_condition",
          "well_kept",
          "mint_condition",
          "modernized",
          "refurbished",
          "refurbished",
          "refurbished",
          "modernized",
          "refurbished",
          "modernized",
          "refurbished",
          "no_information",
          "fully_renovated",
          "refurbished",
          "fully_renovated",
          "fully_renovated",
          "modernized",
          "modernized",
          "modernized",
          "first_time_use",
          "no_information",
          "mint_condition",
          "modernized",
          "modernized",
          "first_time_use",
          "fully_renovated",
          "modernized",
          "modernized",
          "first_time_use",
          "first_time_use",
          "first_time_use",
          "first_time_use",
          "no_information",
          "first_time_use",
          "mint_condition",
          "first_time_use",
          "first_time_use",
          "first_time_use",
          "first_time_use",
          "first_time_use",
          "first_time_use",
          "first_time_use",
          "no_information",
          "fully_renovated",
          "modernized",
          "first_time_use",
          "mint_condition",
          "first_time_use",
          "first_time_use",
          "first_time_use",
          "no_information",
          "first_time_use_after_refurbishment",
          "first_time_use",
          "no_information",
          "refurbished",
          "first_time_use",
          "fully_renovated",
          "first_time_use",
          "fully_renovated",
          "first_time_use",
          "refurbished",
          "mint_condition",
          "well_kept",
          "first_time_use",
          "well_kept",
          "well_kept",
          "first_time_use",
          "mint_condition",
          "well_kept",
          "first_time_use",
          "refurbished",
          "no_information",
          "no_information",
          "refurbished",
          "no_information",
          "first_time_use",
          "first_time_use",
          "modernized",
          "first_time_use_after_refurbishment",
          "well_kept",
          "no_information",
          "first_time_use",
          "first_time_use",
          "first_time_use",
          "mint_condition",
          "first_time_use_after_refurbishment",
          "first_time_use",
          "no_information",
          "well_kept",
          "mint_condition",
          "well_kept",
          "modernized",
          "first_time_use",
          "well_kept",
          "well_kept",
          "first_time_use",
          "first_time_use",
          "refurbished",
          "no_information",
          "first_time_use",
          "modernized",
          "first_time_use",
          "first_time_use",
          "mint_condition",
          "first_time_use",
          "first_time_use",
          "first_time_use",
          "first_time_use",
          "well_kept",
          "modernized",
          "well_kept",
          "modernized",
          "well_kept",
          "refurbished",
          "well_kept",
          "no_information",
          "fully_renovated",
          "well_kept",
          "mint_condition",
          "well_kept",
          "well_kept",
          "first_time_use",
          "mint_condition",
          "refurbished",
          "first_time_use",
          "well_kept",
          "mint_condition",
          "fully_renovated",
          "well_kept",
          "first_time_use",
          "first_time_use",
          "modernized",
          "mint_condition",
          "well_kept",
          "first_time_use",
          "fully_renovated",
          "first_time_use",
          "no_information",
          "first_time_use",
          "first_time_use",
          "no_information",
          "no_information",
          "first_time_use",
          "first_time_use",
          "first_time_use",
          "first_time_use",
          "first_time_use",
          "first_time_use",
          "first_time_use",
          "well_kept",
          "mint_condition",
          "first_time_use",
          "well_kept",
          "mint_condition",
          "first_time_use_after_refurbishment",
          "first_time_use",
          "well_kept",
          "fully_renovated",
          "no_information",
          "first_time_use",
          "first_time_use",
          "mint_condition",
          "first_time_use",
          "first_time_use",
          "first_time_use",
          "first_time_use",
          "first_time_use",
          "first_time_use",
          "mint_condition",
          "no_information",
          "mint_condition",
          "first_time_use",
          "first_time_use",
          "first_time_use",
          "first_time_use",
          "refurbished",
          "first_time_use",
          "first_time_use",
          "first_time_use",
          "fully_renovated",
          "mint_condition",
          "first_time_use",
          "no_information",
          "no_information",
          "fully_renovated",
          "mint_condition",
          "first_time_use",
          "refurbished",
          "refurbished",
          "refurbished",
          "first_time_use",
          "refurbished",
          "mint_condition",
          "refurbished",
          "first_time_use",
          "first_time_use",
          "first_time_use",
          "first_time_use",
          "mint_condition",
          "no_information",
          "first_time_use",
          "first_time_use",
          "no_information",
          "first_time_use",
          "mint_condition",
          "well_kept",
          "first_time_use",
          "first_time_use",
          "first_time_use",
          "well_kept",
          "first_time_use",
          "first_time_use",
          "mint_condition",
          "first_time_use",
          "first_time_use",
          "first_time_use",
          "first_time_use",
          "first_time_use",
          "first_time_use",
          "first_time_use",
          "first_time_use_after_refurbishment",
          "first_time_use",
          "first_time_use",
          "first_time_use",
          "first_time_use",
          "first_time_use",
          "first_time_use",
          "first_time_use",
          "first_time_use",
          "first_time_use",
          "mint_condition",
          "first_time_use",
          "first_time_use",
          "well_kept",
          "refurbished",
          "first_time_use",
          "first_time_use_after_refurbishment",
          "no_information",
          "well_kept",
          "first_time_use",
          "no_information",
          "first_time_use",
          "refurbished",
          "first_time_use",
          "first_time_use",
          "refurbished",
          "first_time_use",
          "refurbished",
          "mint_condition",
          "first_time_use",
          "first_time_use",
          "first_time_use",
          "refurbished",
          "first_time_use",
          "no_information",
          "first_time_use",
          "first_time_use",
          "first_time_use",
          "mint_condition",
          "first_time_use",
          "first_time_use",
          "first_time_use",
          "first_time_use",
          "first_time_use",
          "first_time_use",
          "first_time_use",
          "first_time_use",
          "first_time_use",
          "first_time_use",
          "first_time_use",
          "modernized",
          "refurbished",
          "well_kept",
          "first_time_use",
          "first_time_use",
          "no_information",
          "first_time_use",
          "fully_renovated",
          "first_time_use",
          "first_time_use",
          "first_time_use",
          "first_time_use",
          "no_information",
          "first_time_use_after_refurbishment",
          "no_information",
          "first_time_use",
          "first_time_use",
          "refurbished",
          "no_information",
          "first_time_use_after_refurbishment",
          "no_information",
          "mint_condition",
          "first_time_use",
          "refurbished",
          "first_time_use_after_refurbishment",
          "first_time_use",
          "first_time_use",
          "first_time_use",
          "first_time_use",
          "first_time_use",
          "mint_condition",
          "no_information",
          "first_time_use",
          "fully_renovated",
          "first_time_use",
          "first_time_use",
          "refurbished",
          "no_information",
          "first_time_use",
          "no_information",
          "first_time_use",
          "first_time_use",
          "first_time_use",
          "no_information",
          "first_time_use",
          "mint_condition",
          "refurbished",
          "no_information",
          "first_time_use",
          "no_information",
          "mint_condition",
          "no_information",
          "no_information",
          "first_time_use",
          "first_time_use",
          "mint_condition",
          "mint_condition",
          "mint_condition",
          "mint_condition",
          "well_kept",
          "mint_condition",
          "mint_condition",
          "well_kept",
          "well_kept",
          "no_information",
          "no_information",
          "mint_condition",
          "mint_condition",
          "mint_condition",
          "mint_condition",
          "mint_condition",
          "fully_renovated",
          "mint_condition",
          "mint_condition",
          "mint_condition",
          "mint_condition",
          "no_information",
          "no_information",
          "no_information",
          "first_time_use",
          "mint_condition",
          "no_information",
          "modernized",
          "mint_condition",
          "well_kept",
          "modernized",
          "mint_condition",
          "mint_condition",
          "mint_condition",
          "well_kept",
          "fully_renovated"
         ],
         "xaxis": "x",
         "y": [
          1,
          1,
          1,
          1,
          1,
          1,
          1,
          1,
          1,
          1,
          1,
          1,
          1,
          1,
          1,
          1,
          1,
          1,
          1,
          1,
          1,
          1,
          1,
          1,
          1,
          1,
          1,
          1,
          1,
          1,
          1,
          1,
          1,
          1,
          1,
          1,
          1,
          1,
          1,
          1,
          1,
          1,
          1,
          1,
          1,
          1,
          1,
          1,
          1,
          1,
          1,
          1,
          1,
          1,
          1,
          1,
          1,
          1,
          1,
          1,
          1,
          1,
          1,
          1,
          1,
          1,
          1,
          1,
          1,
          1,
          1,
          1,
          1,
          1,
          1,
          1,
          1,
          1,
          1,
          1,
          1,
          1,
          1,
          1,
          1,
          1,
          1,
          1,
          1,
          1,
          1,
          1,
          1,
          1,
          1,
          1,
          1,
          1,
          1,
          1,
          1,
          1,
          1,
          1,
          1,
          1,
          1,
          1,
          1,
          1,
          1,
          1,
          1,
          1,
          1,
          1,
          1,
          1,
          1,
          1,
          1,
          1,
          1,
          1,
          1,
          1,
          1,
          1,
          1,
          1,
          1,
          1,
          1,
          1,
          1,
          1,
          1,
          1,
          1,
          1,
          1,
          1,
          1,
          1,
          1,
          1,
          1,
          1,
          1,
          1,
          1,
          1,
          1,
          1,
          1,
          1,
          1,
          1,
          1,
          1,
          1,
          1,
          1,
          1,
          1,
          1,
          1,
          1,
          1,
          1,
          1,
          1,
          1,
          1,
          1,
          1,
          1,
          1,
          1,
          1,
          1,
          1,
          1,
          1,
          1,
          1,
          1,
          1,
          1,
          1,
          1,
          1,
          1,
          1,
          1,
          1,
          1,
          1,
          1,
          1,
          1,
          1,
          1,
          1,
          1,
          1,
          1,
          1,
          1,
          1,
          1,
          1,
          1,
          1,
          1,
          1,
          1,
          1,
          1,
          1,
          1,
          1,
          1,
          1,
          1,
          1,
          1,
          1,
          1,
          1,
          1,
          1,
          1,
          1,
          1,
          1,
          1,
          1,
          1,
          1,
          1,
          1,
          1,
          1,
          1,
          1,
          1,
          1,
          1,
          1,
          1,
          1,
          1,
          1,
          1,
          1,
          1,
          1,
          1,
          1,
          1,
          1,
          1,
          1,
          1,
          1,
          1,
          1,
          1,
          1,
          1,
          1,
          1,
          1,
          1,
          1,
          1,
          1,
          1,
          1,
          1,
          1,
          1,
          1,
          1,
          1,
          1,
          1,
          1,
          1,
          1,
          1,
          1,
          1,
          1,
          1,
          1,
          1,
          1,
          1,
          1,
          1,
          1,
          1,
          1,
          1,
          1,
          1,
          1,
          1,
          1,
          1,
          1,
          1,
          1,
          1,
          1,
          1,
          1,
          1,
          1,
          1,
          1,
          1,
          1,
          1,
          1,
          1,
          1,
          1,
          1,
          1,
          1,
          1,
          1,
          1,
          1,
          1,
          1,
          1,
          1,
          1,
          1,
          1,
          1,
          1,
          1,
          1,
          1,
          1,
          1,
          1,
          1,
          1,
          1,
          1,
          1,
          1,
          1,
          1,
          1,
          1,
          1,
          1,
          1,
          1,
          1,
          1,
          1,
          1,
          1,
          1,
          1,
          1,
          1,
          1,
          1,
          1,
          1,
          1,
          1,
          1,
          1,
          1,
          1,
          1,
          1,
          1,
          1,
          1,
          1,
          1,
          1,
          1,
          1,
          1,
          1,
          1,
          1,
          1,
          1,
          1,
          1,
          1,
          1,
          1,
          1,
          1,
          1,
          1,
          1,
          1,
          1,
          1,
          1,
          1,
          1,
          1,
          1,
          1,
          1,
          1,
          1,
          1,
          1,
          1,
          1,
          1,
          1,
          1,
          1,
          1,
          1,
          1,
          1,
          1,
          1,
          1,
          1,
          1,
          1,
          1,
          1,
          1,
          1,
          1,
          1,
          1,
          1,
          1,
          1,
          1,
          1,
          1,
          1,
          1,
          1,
          1,
          1,
          1,
          1,
          1,
          1,
          1,
          1,
          1,
          1,
          1,
          1,
          1,
          1,
          1,
          1,
          1,
          1,
          1,
          1,
          1,
          1,
          1,
          1,
          1,
          1,
          1,
          1,
          1,
          1,
          1,
          1,
          1,
          1,
          1,
          1,
          1,
          1,
          1,
          1,
          1,
          1,
          1,
          1,
          1,
          1,
          1,
          1,
          1,
          1,
          1,
          1,
          1,
          1,
          1,
          1,
          1,
          1,
          1,
          1,
          1,
          1,
          1,
          1,
          1,
          1,
          1,
          1,
          1,
          1,
          1,
          1,
          1,
          1,
          1,
          1,
          1,
          1,
          1,
          1,
          1,
          1,
          1,
          1,
          1,
          1,
          1,
          1,
          1,
          1,
          1,
          1,
          1,
          1,
          1,
          1,
          1,
          1,
          1,
          1,
          1,
          1,
          1,
          1,
          1,
          1,
          1,
          1,
          1,
          1,
          1,
          1,
          1,
          1,
          1,
          1,
          1,
          1,
          1,
          1,
          1,
          1,
          1,
          1,
          1,
          1,
          1,
          1,
          1,
          1,
          1,
          1,
          1,
          1,
          1,
          1,
          1,
          1,
          1,
          1,
          1,
          1,
          1,
          1,
          1,
          1,
          1,
          1,
          1,
          1,
          1,
          1,
          1,
          1,
          1,
          1,
          1,
          1,
          1,
          1,
          1,
          1,
          1,
          1,
          1,
          1,
          1,
          1,
          1,
          1,
          1,
          1,
          1,
          1,
          1,
          1,
          1,
          1,
          1,
          1,
          1,
          1,
          1,
          1,
          1,
          1,
          1,
          1,
          1,
          1,
          1,
          1,
          1,
          1,
          1,
          1,
          1,
          1,
          1,
          1,
          1,
          1,
          1,
          1,
          1,
          1,
          1,
          1,
          1,
          1,
          1,
          1,
          1,
          1,
          1,
          1,
          1,
          1,
          1,
          1,
          1,
          1,
          1,
          1,
          1,
          1,
          1,
          1,
          1,
          1,
          1,
          1,
          1,
          1,
          1,
          1,
          1,
          1,
          1,
          1,
          1,
          1,
          1,
          1,
          1,
          1,
          1,
          1,
          1,
          1,
          1,
          1,
          1,
          1,
          1,
          1,
          1,
          1,
          1,
          1,
          1,
          1,
          1,
          1,
          1,
          1,
          1,
          1,
          1,
          1,
          1,
          1,
          1,
          1,
          1,
          1,
          1,
          1,
          1,
          1,
          1,
          1,
          1,
          1,
          1,
          1,
          1,
          1,
          1,
          1,
          1,
          1,
          1,
          1,
          1,
          1,
          1,
          1,
          1,
          1,
          1,
          1,
          1,
          1,
          1,
          1,
          1
         ],
         "yaxis": "y"
        }
       ],
       "layout": {
        "barmode": "relative",
        "legend": {
         "tracegroupgap": 0
        },
        "margin": {
         "t": 60
        },
        "template": {
         "data": {
          "bar": [
           {
            "error_x": {
             "color": "#2a3f5f"
            },
            "error_y": {
             "color": "#2a3f5f"
            },
            "marker": {
             "line": {
              "color": "#E5ECF6",
              "width": 0.5
             }
            },
            "type": "bar"
           }
          ],
          "barpolar": [
           {
            "marker": {
             "line": {
              "color": "#E5ECF6",
              "width": 0.5
             }
            },
            "type": "barpolar"
           }
          ],
          "carpet": [
           {
            "aaxis": {
             "endlinecolor": "#2a3f5f",
             "gridcolor": "white",
             "linecolor": "white",
             "minorgridcolor": "white",
             "startlinecolor": "#2a3f5f"
            },
            "baxis": {
             "endlinecolor": "#2a3f5f",
             "gridcolor": "white",
             "linecolor": "white",
             "minorgridcolor": "white",
             "startlinecolor": "#2a3f5f"
            },
            "type": "carpet"
           }
          ],
          "choropleth": [
           {
            "colorbar": {
             "outlinewidth": 0,
             "ticks": ""
            },
            "type": "choropleth"
           }
          ],
          "contour": [
           {
            "colorbar": {
             "outlinewidth": 0,
             "ticks": ""
            },
            "colorscale": [
             [
              0,
              "#0d0887"
             ],
             [
              0.1111111111111111,
              "#46039f"
             ],
             [
              0.2222222222222222,
              "#7201a8"
             ],
             [
              0.3333333333333333,
              "#9c179e"
             ],
             [
              0.4444444444444444,
              "#bd3786"
             ],
             [
              0.5555555555555556,
              "#d8576b"
             ],
             [
              0.6666666666666666,
              "#ed7953"
             ],
             [
              0.7777777777777778,
              "#fb9f3a"
             ],
             [
              0.8888888888888888,
              "#fdca26"
             ],
             [
              1,
              "#f0f921"
             ]
            ],
            "type": "contour"
           }
          ],
          "contourcarpet": [
           {
            "colorbar": {
             "outlinewidth": 0,
             "ticks": ""
            },
            "type": "contourcarpet"
           }
          ],
          "heatmap": [
           {
            "colorbar": {
             "outlinewidth": 0,
             "ticks": ""
            },
            "colorscale": [
             [
              0,
              "#0d0887"
             ],
             [
              0.1111111111111111,
              "#46039f"
             ],
             [
              0.2222222222222222,
              "#7201a8"
             ],
             [
              0.3333333333333333,
              "#9c179e"
             ],
             [
              0.4444444444444444,
              "#bd3786"
             ],
             [
              0.5555555555555556,
              "#d8576b"
             ],
             [
              0.6666666666666666,
              "#ed7953"
             ],
             [
              0.7777777777777778,
              "#fb9f3a"
             ],
             [
              0.8888888888888888,
              "#fdca26"
             ],
             [
              1,
              "#f0f921"
             ]
            ],
            "type": "heatmap"
           }
          ],
          "heatmapgl": [
           {
            "colorbar": {
             "outlinewidth": 0,
             "ticks": ""
            },
            "colorscale": [
             [
              0,
              "#0d0887"
             ],
             [
              0.1111111111111111,
              "#46039f"
             ],
             [
              0.2222222222222222,
              "#7201a8"
             ],
             [
              0.3333333333333333,
              "#9c179e"
             ],
             [
              0.4444444444444444,
              "#bd3786"
             ],
             [
              0.5555555555555556,
              "#d8576b"
             ],
             [
              0.6666666666666666,
              "#ed7953"
             ],
             [
              0.7777777777777778,
              "#fb9f3a"
             ],
             [
              0.8888888888888888,
              "#fdca26"
             ],
             [
              1,
              "#f0f921"
             ]
            ],
            "type": "heatmapgl"
           }
          ],
          "histogram": [
           {
            "marker": {
             "colorbar": {
              "outlinewidth": 0,
              "ticks": ""
             }
            },
            "type": "histogram"
           }
          ],
          "histogram2d": [
           {
            "colorbar": {
             "outlinewidth": 0,
             "ticks": ""
            },
            "colorscale": [
             [
              0,
              "#0d0887"
             ],
             [
              0.1111111111111111,
              "#46039f"
             ],
             [
              0.2222222222222222,
              "#7201a8"
             ],
             [
              0.3333333333333333,
              "#9c179e"
             ],
             [
              0.4444444444444444,
              "#bd3786"
             ],
             [
              0.5555555555555556,
              "#d8576b"
             ],
             [
              0.6666666666666666,
              "#ed7953"
             ],
             [
              0.7777777777777778,
              "#fb9f3a"
             ],
             [
              0.8888888888888888,
              "#fdca26"
             ],
             [
              1,
              "#f0f921"
             ]
            ],
            "type": "histogram2d"
           }
          ],
          "histogram2dcontour": [
           {
            "colorbar": {
             "outlinewidth": 0,
             "ticks": ""
            },
            "colorscale": [
             [
              0,
              "#0d0887"
             ],
             [
              0.1111111111111111,
              "#46039f"
             ],
             [
              0.2222222222222222,
              "#7201a8"
             ],
             [
              0.3333333333333333,
              "#9c179e"
             ],
             [
              0.4444444444444444,
              "#bd3786"
             ],
             [
              0.5555555555555556,
              "#d8576b"
             ],
             [
              0.6666666666666666,
              "#ed7953"
             ],
             [
              0.7777777777777778,
              "#fb9f3a"
             ],
             [
              0.8888888888888888,
              "#fdca26"
             ],
             [
              1,
              "#f0f921"
             ]
            ],
            "type": "histogram2dcontour"
           }
          ],
          "mesh3d": [
           {
            "colorbar": {
             "outlinewidth": 0,
             "ticks": ""
            },
            "type": "mesh3d"
           }
          ],
          "parcoords": [
           {
            "line": {
             "colorbar": {
              "outlinewidth": 0,
              "ticks": ""
             }
            },
            "type": "parcoords"
           }
          ],
          "pie": [
           {
            "automargin": true,
            "type": "pie"
           }
          ],
          "scatter": [
           {
            "marker": {
             "colorbar": {
              "outlinewidth": 0,
              "ticks": ""
             }
            },
            "type": "scatter"
           }
          ],
          "scatter3d": [
           {
            "line": {
             "colorbar": {
              "outlinewidth": 0,
              "ticks": ""
             }
            },
            "marker": {
             "colorbar": {
              "outlinewidth": 0,
              "ticks": ""
             }
            },
            "type": "scatter3d"
           }
          ],
          "scattercarpet": [
           {
            "marker": {
             "colorbar": {
              "outlinewidth": 0,
              "ticks": ""
             }
            },
            "type": "scattercarpet"
           }
          ],
          "scattergeo": [
           {
            "marker": {
             "colorbar": {
              "outlinewidth": 0,
              "ticks": ""
             }
            },
            "type": "scattergeo"
           }
          ],
          "scattergl": [
           {
            "marker": {
             "colorbar": {
              "outlinewidth": 0,
              "ticks": ""
             }
            },
            "type": "scattergl"
           }
          ],
          "scattermapbox": [
           {
            "marker": {
             "colorbar": {
              "outlinewidth": 0,
              "ticks": ""
             }
            },
            "type": "scattermapbox"
           }
          ],
          "scatterpolar": [
           {
            "marker": {
             "colorbar": {
              "outlinewidth": 0,
              "ticks": ""
             }
            },
            "type": "scatterpolar"
           }
          ],
          "scatterpolargl": [
           {
            "marker": {
             "colorbar": {
              "outlinewidth": 0,
              "ticks": ""
             }
            },
            "type": "scatterpolargl"
           }
          ],
          "scatterternary": [
           {
            "marker": {
             "colorbar": {
              "outlinewidth": 0,
              "ticks": ""
             }
            },
            "type": "scatterternary"
           }
          ],
          "surface": [
           {
            "colorbar": {
             "outlinewidth": 0,
             "ticks": ""
            },
            "colorscale": [
             [
              0,
              "#0d0887"
             ],
             [
              0.1111111111111111,
              "#46039f"
             ],
             [
              0.2222222222222222,
              "#7201a8"
             ],
             [
              0.3333333333333333,
              "#9c179e"
             ],
             [
              0.4444444444444444,
              "#bd3786"
             ],
             [
              0.5555555555555556,
              "#d8576b"
             ],
             [
              0.6666666666666666,
              "#ed7953"
             ],
             [
              0.7777777777777778,
              "#fb9f3a"
             ],
             [
              0.8888888888888888,
              "#fdca26"
             ],
             [
              1,
              "#f0f921"
             ]
            ],
            "type": "surface"
           }
          ],
          "table": [
           {
            "cells": {
             "fill": {
              "color": "#EBF0F8"
             },
             "line": {
              "color": "white"
             }
            },
            "header": {
             "fill": {
              "color": "#C8D4E3"
             },
             "line": {
              "color": "white"
             }
            },
            "type": "table"
           }
          ]
         },
         "layout": {
          "annotationdefaults": {
           "arrowcolor": "#2a3f5f",
           "arrowhead": 0,
           "arrowwidth": 1
          },
          "autotypenumbers": "strict",
          "coloraxis": {
           "colorbar": {
            "outlinewidth": 0,
            "ticks": ""
           }
          },
          "colorscale": {
           "diverging": [
            [
             0,
             "#8e0152"
            ],
            [
             0.1,
             "#c51b7d"
            ],
            [
             0.2,
             "#de77ae"
            ],
            [
             0.3,
             "#f1b6da"
            ],
            [
             0.4,
             "#fde0ef"
            ],
            [
             0.5,
             "#f7f7f7"
            ],
            [
             0.6,
             "#e6f5d0"
            ],
            [
             0.7,
             "#b8e186"
            ],
            [
             0.8,
             "#7fbc41"
            ],
            [
             0.9,
             "#4d9221"
            ],
            [
             1,
             "#276419"
            ]
           ],
           "sequential": [
            [
             0,
             "#0d0887"
            ],
            [
             0.1111111111111111,
             "#46039f"
            ],
            [
             0.2222222222222222,
             "#7201a8"
            ],
            [
             0.3333333333333333,
             "#9c179e"
            ],
            [
             0.4444444444444444,
             "#bd3786"
            ],
            [
             0.5555555555555556,
             "#d8576b"
            ],
            [
             0.6666666666666666,
             "#ed7953"
            ],
            [
             0.7777777777777778,
             "#fb9f3a"
            ],
            [
             0.8888888888888888,
             "#fdca26"
            ],
            [
             1,
             "#f0f921"
            ]
           ],
           "sequentialminus": [
            [
             0,
             "#0d0887"
            ],
            [
             0.1111111111111111,
             "#46039f"
            ],
            [
             0.2222222222222222,
             "#7201a8"
            ],
            [
             0.3333333333333333,
             "#9c179e"
            ],
            [
             0.4444444444444444,
             "#bd3786"
            ],
            [
             0.5555555555555556,
             "#d8576b"
            ],
            [
             0.6666666666666666,
             "#ed7953"
            ],
            [
             0.7777777777777778,
             "#fb9f3a"
            ],
            [
             0.8888888888888888,
             "#fdca26"
            ],
            [
             1,
             "#f0f921"
            ]
           ]
          },
          "colorway": [
           "#636efa",
           "#EF553B",
           "#00cc96",
           "#ab63fa",
           "#FFA15A",
           "#19d3f3",
           "#FF6692",
           "#B6E880",
           "#FF97FF",
           "#FECB52"
          ],
          "font": {
           "color": "#2a3f5f"
          },
          "geo": {
           "bgcolor": "white",
           "lakecolor": "white",
           "landcolor": "#E5ECF6",
           "showlakes": true,
           "showland": true,
           "subunitcolor": "white"
          },
          "hoverlabel": {
           "align": "left"
          },
          "hovermode": "closest",
          "mapbox": {
           "style": "light"
          },
          "paper_bgcolor": "white",
          "plot_bgcolor": "#E5ECF6",
          "polar": {
           "angularaxis": {
            "gridcolor": "white",
            "linecolor": "white",
            "ticks": ""
           },
           "bgcolor": "#E5ECF6",
           "radialaxis": {
            "gridcolor": "white",
            "linecolor": "white",
            "ticks": ""
           }
          },
          "scene": {
           "xaxis": {
            "backgroundcolor": "#E5ECF6",
            "gridcolor": "white",
            "gridwidth": 2,
            "linecolor": "white",
            "showbackground": true,
            "ticks": "",
            "zerolinecolor": "white"
           },
           "yaxis": {
            "backgroundcolor": "#E5ECF6",
            "gridcolor": "white",
            "gridwidth": 2,
            "linecolor": "white",
            "showbackground": true,
            "ticks": "",
            "zerolinecolor": "white"
           },
           "zaxis": {
            "backgroundcolor": "#E5ECF6",
            "gridcolor": "white",
            "gridwidth": 2,
            "linecolor": "white",
            "showbackground": true,
            "ticks": "",
            "zerolinecolor": "white"
           }
          },
          "shapedefaults": {
           "line": {
            "color": "#2a3f5f"
           }
          },
          "ternary": {
           "aaxis": {
            "gridcolor": "white",
            "linecolor": "white",
            "ticks": ""
           },
           "baxis": {
            "gridcolor": "white",
            "linecolor": "white",
            "ticks": ""
           },
           "bgcolor": "#E5ECF6",
           "caxis": {
            "gridcolor": "white",
            "linecolor": "white",
            "ticks": ""
           }
          },
          "title": {
           "x": 0.05
          },
          "xaxis": {
           "automargin": true,
           "gridcolor": "white",
           "linecolor": "white",
           "ticks": "",
           "title": {
            "standoff": 15
           },
           "zerolinecolor": "white",
           "zerolinewidth": 2
          },
          "yaxis": {
           "automargin": true,
           "gridcolor": "white",
           "linecolor": "white",
           "ticks": "",
           "title": {
            "standoff": 15
           },
           "zerolinecolor": "white",
           "zerolinewidth": 2
          }
         }
        },
        "xaxis": {
         "anchor": "y",
         "domain": [
          0,
          1
         ],
         "title": {
          "text": "Condition"
         }
        },
        "yaxis": {
         "anchor": "x",
         "domain": [
          0,
          1
         ],
         "title": {
          "text": "count"
         }
        }
       }
      }
     },
     "metadata": {}
    }
   ],
   "metadata": {}
  },
  {
   "cell_type": "code",
   "execution_count": 12,
   "source": [
    "px.bar(rentals, x = \"Region\")"
   ],
   "outputs": [
    {
     "output_type": "display_data",
     "data": {
      "application/vnd.plotly.v1+json": {
       "config": {
        "plotlyServerURL": "https://plot.ly"
       },
       "data": [
        {
         "alignmentgroup": "True",
         "hovertemplate": "Region=%{x}<br>count=%{y}<extra></extra>",
         "legendgroup": "",
         "marker": {
          "color": "#636efa"
         },
         "name": "",
         "offsetgroup": "",
         "orientation": "v",
         "showlegend": false,
         "textposition": "auto",
         "type": "bar",
         "x": [
          "Mitte",
          "Kreuzberg",
          "Köpenick",
          "Wilmersdorf",
          "Kreuzberg",
          "Köpenick",
          "Mitte",
          "Charlottenburg",
          "Friedrichsfelde",
          "Tiergarten",
          "Mitte",
          "Kreuzberg",
          "Mitte",
          "Kreuzberg",
          "Tiergarten",
          "Mitte",
          "Friedrichsfelde",
          "Köpenick",
          "Friedrichsfelde",
          "Mitte",
          "Mitte",
          "Köpenick",
          "Prenzlauer",
          "Tiergarten",
          "Prenzlauer",
          "Tiergarten",
          "Mitte",
          "Köpenick",
          "Charlottenburg",
          "Charlottenburg",
          "Tiergarten",
          "Charlottenburg",
          "Tiergarten",
          "Mitte",
          "Mitte",
          "Wilmersdorf",
          "Tiergarten",
          "Charlottenburg",
          "Wedding",
          "Charlottenburg",
          "Tiergarten",
          "Tiergarten",
          "Tiergarten",
          "Mitte",
          "Mitte",
          "Neukölln",
          "Wedding",
          "Neukölln",
          "Neukölln",
          "Wedding",
          "Wedding",
          "Prenzlauer",
          "Prenzlauer",
          "Charlottenburg",
          "Prenzlauer",
          "Charlottenburg",
          "Tiergarten",
          "Wedding",
          "Tiergarten",
          "Charlottenburg",
          "Prenzlauer",
          "Mitte",
          "Charlottenburg",
          "Mitte",
          "Prenzlauer",
          "Charlottenburg",
          "Mitte",
          "Friedrichsfelde",
          "Tiergarten",
          "Mitte",
          "Wedding",
          "Neukölln",
          "Tiergarten",
          "Tiergarten",
          "Mitte",
          "Prenzlauer",
          "Kreuzberg",
          "Köpenick",
          "Kreuzberg",
          "Wedding",
          "Tiergarten",
          "Köpenick",
          "Kreuzberg",
          "Charlottenburg",
          "Neukölln",
          "Charlottenburg",
          "Wilmersdorf",
          "Mitte",
          "Mitte",
          "Tiergarten",
          "Mitte",
          "Charlottenburg",
          "Mitte",
          "Mitte",
          "Wilmersdorf",
          "Mitte",
          "Mitte",
          "Wedding",
          "Charlottenburg",
          "Neukölln",
          "Prenzlauer",
          "Wilmersdorf",
          "Prenzlauer",
          "Tiergarten",
          "Prenzlauer",
          "Mitte",
          "Prenzlauer",
          "Prenzlauer",
          "Neukölln",
          "Tiergarten",
          "Neukölln",
          "Mitte",
          "Kreuzberg",
          "Mitte",
          "Köpenick",
          "Charlottenburg",
          "Wilmersdorf",
          "Mitte",
          "Mitte",
          "Prenzlauer",
          "Tiergarten",
          "Charlottenburg",
          "Tiergarten",
          "Wilmersdorf",
          "Wilmersdorf",
          "Tiergarten",
          "Neukölln",
          "Köpenick",
          "Wilmersdorf",
          "Tiergarten",
          "Mitte",
          "Tiergarten",
          "Mitte",
          "Tiergarten",
          "Tiergarten",
          "Tiergarten",
          "Tiergarten",
          "Kreuzberg",
          "Tiergarten",
          "Charlottenburg",
          "Charlottenburg",
          "Tiergarten",
          "Köpenick",
          "Mitte",
          "Charlottenburg",
          "Charlottenburg",
          "Köpenick",
          "Charlottenburg",
          "Prenzlauer",
          "Charlottenburg",
          "Mitte",
          "Kreuzberg",
          "Wedding",
          "Charlottenburg",
          "Mitte",
          "Tiergarten",
          "Mitte",
          "Tiergarten",
          "Mitte",
          "Kreuzberg",
          "Mitte",
          "Köpenick",
          "Tiergarten",
          "Wedding",
          "Köpenick",
          "Köpenick",
          "Köpenick",
          "Tiergarten",
          "Neukölln",
          "Friedrichsfelde",
          "Köpenick",
          "Köpenick",
          "Köpenick",
          "Mitte",
          "Wedding",
          "Tiergarten",
          "Wilmersdorf",
          "Tiergarten",
          "Wedding",
          "Tiergarten",
          "Mitte",
          "Tiergarten",
          "Wedding",
          "Mitte",
          "Tiergarten",
          "Tiergarten",
          "Kreuzberg",
          "Mitte",
          "Wilmersdorf",
          "Wilmersdorf",
          "Tiergarten",
          "Mitte",
          "Tiergarten",
          "Tiergarten",
          "Mitte",
          "Prenzlauer",
          "Mitte",
          "Prenzlauer",
          "Mitte",
          "Tiergarten",
          "Tiergarten",
          "Köpenick",
          "Kreuzberg",
          "Kreuzberg",
          "Neukölln",
          "Neukölln",
          "Neukölln",
          "Wilmersdorf",
          "Wilmersdorf",
          "Köpenick",
          "Mitte",
          "Tiergarten",
          "Mitte",
          "Friedrichsfelde",
          "Wilmersdorf",
          "Charlottenburg",
          "Charlottenburg",
          "Mitte",
          "Charlottenburg",
          "Mitte",
          "Mitte",
          "Charlottenburg",
          "Charlottenburg",
          "Charlottenburg",
          "Tiergarten",
          "Tiergarten",
          "Wilmersdorf",
          "Charlottenburg",
          "Wedding",
          "Charlottenburg",
          "Wedding",
          "Tiergarten",
          "Prenzlauer",
          "Neukölln",
          "Wedding",
          "Tiergarten",
          "Charlottenburg",
          "Neukölln",
          "Tiergarten",
          "Kreuzberg",
          "Charlottenburg",
          "Tiergarten",
          "Mitte",
          "Mitte",
          "Tiergarten",
          "Charlottenburg",
          "Charlottenburg",
          "Mitte",
          "Köpenick",
          "Mitte",
          "Charlottenburg",
          "Mitte",
          "Mitte",
          "Köpenick",
          "Kreuzberg",
          "Wilmersdorf",
          "Tiergarten",
          "Wilmersdorf",
          "Friedrichsfelde",
          "Charlottenburg",
          "Friedrichsfelde",
          "Tiergarten",
          "Charlottenburg",
          "Tiergarten",
          "Neukölln",
          "Neukölln",
          "Charlottenburg",
          "Neukölln",
          "Mitte",
          "Mitte",
          "Köpenick",
          "Charlottenburg",
          "Mitte",
          "Köpenick",
          "Neukölln",
          "Köpenick",
          "Wilmersdorf",
          "Mitte",
          "Wedding",
          "Mitte",
          "Wilmersdorf",
          "Mitte",
          "Friedrichsfelde",
          "Köpenick",
          "Wilmersdorf",
          "Mitte",
          "Mitte",
          "Mitte",
          "Mitte",
          "Tiergarten",
          "Mitte",
          "Wedding",
          "Wedding",
          "Tiergarten",
          "Wedding",
          "Wedding",
          "Wedding",
          "Wilmersdorf",
          "Charlottenburg",
          "Wilmersdorf",
          "Wedding",
          "Neukölln",
          "Wilmersdorf",
          "Charlottenburg",
          "Kreuzberg",
          "Mitte",
          "Mitte",
          "Prenzlauer",
          "Tiergarten",
          "Prenzlauer",
          "Tiergarten",
          "Charlottenburg",
          "Kreuzberg",
          "Tiergarten",
          "Prenzlauer",
          "Kreuzberg",
          "Wedding",
          "Wilmersdorf",
          "Neukölln",
          "Köpenick",
          "Köpenick",
          "Köpenick",
          "Wilmersdorf",
          "Kreuzberg",
          "Wedding",
          "Köpenick",
          "Kreuzberg",
          "Charlottenburg",
          "Mitte",
          "Charlottenburg",
          "Charlottenburg",
          "Tiergarten",
          "Mitte",
          "Mitte",
          "Mitte",
          "Neukölln",
          "Prenzlauer",
          "Neukölln",
          "Mitte",
          "Mitte",
          "Köpenick",
          "Kreuzberg",
          "Mitte",
          "Neukölln",
          "Tiergarten",
          "Charlottenburg",
          "Wilmersdorf",
          "Neukölln",
          "Kreuzberg",
          "Wilmersdorf",
          "Tiergarten",
          "Tiergarten",
          "Mitte",
          "Prenzlauer",
          "Charlottenburg",
          "Mitte",
          "Tiergarten",
          "Wilmersdorf",
          "Wilmersdorf",
          "Tiergarten",
          "Tiergarten",
          "Köpenick",
          "Mitte",
          "Tiergarten",
          "Charlottenburg",
          "Prenzlauer",
          "Tiergarten",
          "Tiergarten",
          "Charlottenburg",
          "Tiergarten",
          "Wilmersdorf",
          "Wilmersdorf",
          "Charlottenburg",
          "Prenzlauer",
          "Köpenick",
          "Köpenick",
          "Friedrichsfelde",
          "Wilmersdorf",
          "Friedrichsfelde",
          "Kreuzberg",
          "Friedrichsfelde",
          "Friedrichsfelde",
          "Friedrichsfelde",
          "Friedrichsfelde",
          "Friedrichsfelde",
          "Prenzlauer",
          "Mitte",
          "Neukölln",
          "Wilmersdorf",
          "Wilmersdorf",
          "Köpenick",
          "Wedding",
          "Mitte",
          "Mitte",
          "Mitte",
          "Neukölln",
          "Wilmersdorf",
          "Wedding",
          "Charlottenburg",
          "Prenzlauer",
          "Charlottenburg",
          "Kreuzberg",
          "Wedding",
          "Mitte",
          "Prenzlauer",
          "Mitte",
          "Kreuzberg",
          "Köpenick",
          "Neukölln",
          "Neukölln",
          "Charlottenburg",
          "Neukölln",
          "Friedrichsfelde",
          "Charlottenburg",
          "Friedrichsfelde",
          "Friedrichsfelde",
          "Neukölln",
          "Friedrichsfelde",
          "Friedrichsfelde",
          "Charlottenburg",
          "Tiergarten",
          "Wilmersdorf",
          "Tiergarten",
          "Kreuzberg",
          "Friedrichsfelde",
          "Friedrichsfelde",
          "Friedrichsfelde",
          "Friedrichsfelde",
          "Neukölln",
          "Friedrichsfelde",
          "Neukölln",
          "Neukölln",
          "Neukölln",
          "Neukölln",
          "Neukölln",
          "Tiergarten",
          "Tiergarten",
          "Prenzlauer",
          "Mitte",
          "Tiergarten",
          "Tiergarten",
          "Tiergarten",
          "Tiergarten",
          "Kreuzberg",
          "Mitte",
          "Wedding",
          "Mitte",
          "Friedrichsfelde",
          "Tiergarten",
          "Charlottenburg",
          "Köpenick",
          "Wilmersdorf",
          "Köpenick",
          "Kreuzberg",
          "Charlottenburg",
          "Köpenick",
          "Neukölln",
          "Mitte",
          "Köpenick",
          "Prenzlauer",
          "Köpenick",
          "Wilmersdorf",
          "Tiergarten",
          "Mitte",
          "Mitte",
          "Neukölln",
          "Tiergarten",
          "Prenzlauer",
          "Friedrichsfelde",
          "Tiergarten",
          "Mitte",
          "Friedrichsfelde",
          "Tiergarten",
          "Charlottenburg",
          "Tiergarten",
          "Tiergarten",
          "Charlottenburg",
          "Tiergarten",
          "Mitte",
          "Neukölln",
          "Friedrichsfelde",
          "Charlottenburg",
          "Wilmersdorf",
          "Friedrichsfelde",
          "Köpenick",
          "Köpenick",
          "Köpenick",
          "Mitte",
          "Prenzlauer",
          "Köpenick",
          "Charlottenburg",
          "Köpenick",
          "Mitte",
          "Neukölln",
          "Friedrichsfelde",
          "Kreuzberg",
          "Köpenick",
          "Köpenick",
          "Tiergarten",
          "Charlottenburg",
          "Kreuzberg",
          "Prenzlauer",
          "Tiergarten",
          "Kreuzberg",
          "Tiergarten",
          "Tiergarten",
          "Neukölln",
          "Mitte",
          "Tiergarten",
          "Mitte",
          "Mitte",
          "Charlottenburg",
          "Köpenick",
          "Köpenick",
          "Neukölln",
          "Neukölln",
          "Neukölln",
          "Köpenick",
          "Mitte",
          "Charlottenburg",
          "Kreuzberg",
          "Wilmersdorf",
          "Kreuzberg",
          "Charlottenburg",
          "Friedrichsfelde",
          "Mitte",
          "Prenzlauer",
          "Tiergarten",
          "Neukölln",
          "Friedrichsfelde",
          "Tiergarten",
          "Neukölln",
          "Tiergarten",
          "Tiergarten",
          "Friedrichsfelde",
          "Prenzlauer",
          "Wilmersdorf",
          "Friedrichsfelde",
          "Charlottenburg",
          "Tiergarten",
          "Friedrichsfelde",
          "Friedrichsfelde",
          "Friedrichsfelde",
          "Mitte",
          "Neukölln",
          "Mitte",
          "Friedrichsfelde",
          "Tiergarten",
          "Kreuzberg",
          "Kreuzberg",
          "Friedrichsfelde",
          "Neukölln",
          "Friedrichsfelde",
          "Kreuzberg",
          "Neukölln",
          "Prenzlauer",
          "Tiergarten",
          "Prenzlauer",
          "Neukölln",
          "Prenzlauer",
          "Tiergarten",
          "Mitte",
          "Mitte",
          "Neukölln",
          "Mitte",
          "Mitte",
          "Neukölln",
          "Mitte",
          "Tiergarten",
          "Mitte",
          "Wilmersdorf",
          "Friedrichsfelde",
          "Mitte",
          "Mitte",
          "Tiergarten",
          "Tiergarten",
          "Neukölln",
          "Tiergarten",
          "Mitte",
          "Tiergarten",
          "Tiergarten",
          "Tiergarten",
          "Tiergarten",
          "Prenzlauer",
          "Tiergarten",
          "Tiergarten",
          "Wedding",
          "Tiergarten",
          "Mitte",
          "Wilmersdorf",
          "Mitte",
          "Mitte",
          "Mitte",
          "Charlottenburg",
          "Mitte",
          "Charlottenburg",
          "Mitte",
          "Friedrichsfelde",
          "Friedrichsfelde",
          "Friedrichsfelde",
          "Tiergarten",
          "Kreuzberg",
          "Neukölln",
          "Friedrichsfelde",
          "Friedrichsfelde",
          "Wedding",
          "Tiergarten",
          "Mitte",
          "Mitte",
          "Tiergarten",
          "Tiergarten",
          "Tiergarten",
          "Charlottenburg",
          "Tiergarten",
          "Friedrichsfelde",
          "Wilmersdorf",
          "Friedrichsfelde",
          "Tiergarten",
          "Friedrichsfelde",
          "Tiergarten",
          "Tiergarten",
          "Tiergarten",
          "Tiergarten",
          "Kreuzberg",
          "Wilmersdorf",
          "Tiergarten",
          "Tiergarten",
          "Tiergarten",
          "Tiergarten",
          "Wilmersdorf",
          "Tiergarten",
          "Tiergarten",
          "Tiergarten",
          "Mitte",
          "Tiergarten",
          "Tiergarten",
          "Charlottenburg",
          "Mitte",
          "Tiergarten",
          "Tiergarten",
          "Mitte",
          "Charlottenburg",
          "Köpenick",
          "Tiergarten",
          "Mitte",
          "Mitte",
          "Mitte",
          "Neukölln",
          "Mitte",
          "Tiergarten",
          "Mitte",
          "Kreuzberg",
          "Tiergarten",
          "Mitte",
          "Tiergarten",
          "Mitte",
          "Charlottenburg",
          "Mitte",
          "Tiergarten",
          "Mitte",
          "Tiergarten",
          "Prenzlauer",
          "Tiergarten",
          "Mitte",
          "Tiergarten",
          "Neukölln",
          "Tiergarten",
          "Tiergarten",
          "Tiergarten",
          "Tiergarten",
          "Tiergarten",
          "Tiergarten",
          "Tiergarten",
          "Wedding",
          "Prenzlauer",
          "Wilmersdorf",
          "Tiergarten",
          "Tiergarten",
          "Tiergarten",
          "Tiergarten",
          "Mitte",
          "Mitte",
          "Mitte",
          "Wilmersdorf",
          "Tiergarten",
          "Tiergarten",
          "Charlottenburg",
          "Charlottenburg",
          "Tiergarten",
          "Tiergarten",
          "Charlottenburg",
          "Prenzlauer",
          "Charlottenburg",
          "Mitte",
          "Mitte",
          "Tiergarten",
          "Charlottenburg",
          "Kreuzberg",
          "Tiergarten",
          "Köpenick",
          "Mitte",
          "Tiergarten",
          "Tiergarten",
          "Mitte",
          "Prenzlauer",
          "Tiergarten",
          "Tiergarten",
          "Tiergarten",
          "Tiergarten",
          "Prenzlauer",
          "Prenzlauer",
          "Prenzlauer",
          "Prenzlauer",
          "Mitte",
          "Wilmersdorf",
          "Mitte",
          "Kreuzberg",
          "Mitte",
          "Köpenick",
          "Tiergarten",
          "Kreuzberg",
          "Mitte",
          "Prenzlauer",
          "Wilmersdorf",
          "Kreuzberg",
          "Kreuzberg",
          "Mitte",
          "Tiergarten",
          "Kreuzberg",
          "Mitte",
          "Mitte",
          "Tiergarten",
          "Prenzlauer",
          "Mitte",
          "Wilmersdorf",
          "Mitte",
          "Mitte",
          "Kreuzberg",
          "Prenzlauer",
          "Friedrichsfelde",
          "Wedding",
          "Mitte",
          "Prenzlauer",
          "Wedding",
          "Prenzlauer",
          "Wedding",
          "Wedding",
          "Wedding",
          "Mitte",
          "Tiergarten",
          "Wedding",
          "Mitte",
          "Tiergarten",
          "Wedding",
          "Mitte",
          "Prenzlauer",
          "Wedding",
          "Tiergarten",
          "Neukölln",
          "Wedding",
          "Wedding",
          "Wilmersdorf",
          "Köpenick",
          "Neukölln"
         ],
         "xaxis": "x",
         "y": [
          1,
          1,
          1,
          1,
          1,
          1,
          1,
          1,
          1,
          1,
          1,
          1,
          1,
          1,
          1,
          1,
          1,
          1,
          1,
          1,
          1,
          1,
          1,
          1,
          1,
          1,
          1,
          1,
          1,
          1,
          1,
          1,
          1,
          1,
          1,
          1,
          1,
          1,
          1,
          1,
          1,
          1,
          1,
          1,
          1,
          1,
          1,
          1,
          1,
          1,
          1,
          1,
          1,
          1,
          1,
          1,
          1,
          1,
          1,
          1,
          1,
          1,
          1,
          1,
          1,
          1,
          1,
          1,
          1,
          1,
          1,
          1,
          1,
          1,
          1,
          1,
          1,
          1,
          1,
          1,
          1,
          1,
          1,
          1,
          1,
          1,
          1,
          1,
          1,
          1,
          1,
          1,
          1,
          1,
          1,
          1,
          1,
          1,
          1,
          1,
          1,
          1,
          1,
          1,
          1,
          1,
          1,
          1,
          1,
          1,
          1,
          1,
          1,
          1,
          1,
          1,
          1,
          1,
          1,
          1,
          1,
          1,
          1,
          1,
          1,
          1,
          1,
          1,
          1,
          1,
          1,
          1,
          1,
          1,
          1,
          1,
          1,
          1,
          1,
          1,
          1,
          1,
          1,
          1,
          1,
          1,
          1,
          1,
          1,
          1,
          1,
          1,
          1,
          1,
          1,
          1,
          1,
          1,
          1,
          1,
          1,
          1,
          1,
          1,
          1,
          1,
          1,
          1,
          1,
          1,
          1,
          1,
          1,
          1,
          1,
          1,
          1,
          1,
          1,
          1,
          1,
          1,
          1,
          1,
          1,
          1,
          1,
          1,
          1,
          1,
          1,
          1,
          1,
          1,
          1,
          1,
          1,
          1,
          1,
          1,
          1,
          1,
          1,
          1,
          1,
          1,
          1,
          1,
          1,
          1,
          1,
          1,
          1,
          1,
          1,
          1,
          1,
          1,
          1,
          1,
          1,
          1,
          1,
          1,
          1,
          1,
          1,
          1,
          1,
          1,
          1,
          1,
          1,
          1,
          1,
          1,
          1,
          1,
          1,
          1,
          1,
          1,
          1,
          1,
          1,
          1,
          1,
          1,
          1,
          1,
          1,
          1,
          1,
          1,
          1,
          1,
          1,
          1,
          1,
          1,
          1,
          1,
          1,
          1,
          1,
          1,
          1,
          1,
          1,
          1,
          1,
          1,
          1,
          1,
          1,
          1,
          1,
          1,
          1,
          1,
          1,
          1,
          1,
          1,
          1,
          1,
          1,
          1,
          1,
          1,
          1,
          1,
          1,
          1,
          1,
          1,
          1,
          1,
          1,
          1,
          1,
          1,
          1,
          1,
          1,
          1,
          1,
          1,
          1,
          1,
          1,
          1,
          1,
          1,
          1,
          1,
          1,
          1,
          1,
          1,
          1,
          1,
          1,
          1,
          1,
          1,
          1,
          1,
          1,
          1,
          1,
          1,
          1,
          1,
          1,
          1,
          1,
          1,
          1,
          1,
          1,
          1,
          1,
          1,
          1,
          1,
          1,
          1,
          1,
          1,
          1,
          1,
          1,
          1,
          1,
          1,
          1,
          1,
          1,
          1,
          1,
          1,
          1,
          1,
          1,
          1,
          1,
          1,
          1,
          1,
          1,
          1,
          1,
          1,
          1,
          1,
          1,
          1,
          1,
          1,
          1,
          1,
          1,
          1,
          1,
          1,
          1,
          1,
          1,
          1,
          1,
          1,
          1,
          1,
          1,
          1,
          1,
          1,
          1,
          1,
          1,
          1,
          1,
          1,
          1,
          1,
          1,
          1,
          1,
          1,
          1,
          1,
          1,
          1,
          1,
          1,
          1,
          1,
          1,
          1,
          1,
          1,
          1,
          1,
          1,
          1,
          1,
          1,
          1,
          1,
          1,
          1,
          1,
          1,
          1,
          1,
          1,
          1,
          1,
          1,
          1,
          1,
          1,
          1,
          1,
          1,
          1,
          1,
          1,
          1,
          1,
          1,
          1,
          1,
          1,
          1,
          1,
          1,
          1,
          1,
          1,
          1,
          1,
          1,
          1,
          1,
          1,
          1,
          1,
          1,
          1,
          1,
          1,
          1,
          1,
          1,
          1,
          1,
          1,
          1,
          1,
          1,
          1,
          1,
          1,
          1,
          1,
          1,
          1,
          1,
          1,
          1,
          1,
          1,
          1,
          1,
          1,
          1,
          1,
          1,
          1,
          1,
          1,
          1,
          1,
          1,
          1,
          1,
          1,
          1,
          1,
          1,
          1,
          1,
          1,
          1,
          1,
          1,
          1,
          1,
          1,
          1,
          1,
          1,
          1,
          1,
          1,
          1,
          1,
          1,
          1,
          1,
          1,
          1,
          1,
          1,
          1,
          1,
          1,
          1,
          1,
          1,
          1,
          1,
          1,
          1,
          1,
          1,
          1,
          1,
          1,
          1,
          1,
          1,
          1,
          1,
          1,
          1,
          1,
          1,
          1,
          1,
          1,
          1,
          1,
          1,
          1,
          1,
          1,
          1,
          1,
          1,
          1,
          1,
          1,
          1,
          1,
          1,
          1,
          1,
          1,
          1,
          1,
          1,
          1,
          1,
          1,
          1,
          1,
          1,
          1,
          1,
          1,
          1,
          1,
          1,
          1,
          1,
          1,
          1,
          1,
          1,
          1,
          1,
          1,
          1,
          1,
          1,
          1,
          1,
          1,
          1,
          1,
          1,
          1,
          1,
          1,
          1,
          1,
          1,
          1,
          1,
          1,
          1,
          1,
          1,
          1,
          1,
          1,
          1,
          1,
          1,
          1,
          1,
          1,
          1,
          1,
          1,
          1,
          1,
          1,
          1,
          1,
          1,
          1,
          1,
          1,
          1,
          1,
          1,
          1,
          1,
          1,
          1,
          1,
          1,
          1,
          1,
          1,
          1,
          1,
          1,
          1,
          1,
          1,
          1,
          1,
          1,
          1,
          1,
          1,
          1,
          1,
          1,
          1,
          1,
          1,
          1,
          1,
          1,
          1,
          1,
          1,
          1,
          1,
          1,
          1,
          1,
          1,
          1,
          1,
          1,
          1,
          1,
          1,
          1,
          1,
          1,
          1,
          1,
          1,
          1,
          1,
          1,
          1,
          1,
          1,
          1,
          1,
          1,
          1,
          1,
          1,
          1,
          1,
          1,
          1,
          1,
          1,
          1,
          1,
          1,
          1,
          1,
          1,
          1,
          1,
          1,
          1,
          1,
          1,
          1,
          1,
          1,
          1,
          1,
          1,
          1,
          1,
          1,
          1,
          1,
          1,
          1,
          1,
          1,
          1,
          1,
          1,
          1,
          1,
          1,
          1,
          1,
          1,
          1,
          1,
          1,
          1,
          1,
          1,
          1,
          1,
          1
         ],
         "yaxis": "y"
        }
       ],
       "layout": {
        "barmode": "relative",
        "legend": {
         "tracegroupgap": 0
        },
        "margin": {
         "t": 60
        },
        "template": {
         "data": {
          "bar": [
           {
            "error_x": {
             "color": "#2a3f5f"
            },
            "error_y": {
             "color": "#2a3f5f"
            },
            "marker": {
             "line": {
              "color": "#E5ECF6",
              "width": 0.5
             }
            },
            "type": "bar"
           }
          ],
          "barpolar": [
           {
            "marker": {
             "line": {
              "color": "#E5ECF6",
              "width": 0.5
             }
            },
            "type": "barpolar"
           }
          ],
          "carpet": [
           {
            "aaxis": {
             "endlinecolor": "#2a3f5f",
             "gridcolor": "white",
             "linecolor": "white",
             "minorgridcolor": "white",
             "startlinecolor": "#2a3f5f"
            },
            "baxis": {
             "endlinecolor": "#2a3f5f",
             "gridcolor": "white",
             "linecolor": "white",
             "minorgridcolor": "white",
             "startlinecolor": "#2a3f5f"
            },
            "type": "carpet"
           }
          ],
          "choropleth": [
           {
            "colorbar": {
             "outlinewidth": 0,
             "ticks": ""
            },
            "type": "choropleth"
           }
          ],
          "contour": [
           {
            "colorbar": {
             "outlinewidth": 0,
             "ticks": ""
            },
            "colorscale": [
             [
              0,
              "#0d0887"
             ],
             [
              0.1111111111111111,
              "#46039f"
             ],
             [
              0.2222222222222222,
              "#7201a8"
             ],
             [
              0.3333333333333333,
              "#9c179e"
             ],
             [
              0.4444444444444444,
              "#bd3786"
             ],
             [
              0.5555555555555556,
              "#d8576b"
             ],
             [
              0.6666666666666666,
              "#ed7953"
             ],
             [
              0.7777777777777778,
              "#fb9f3a"
             ],
             [
              0.8888888888888888,
              "#fdca26"
             ],
             [
              1,
              "#f0f921"
             ]
            ],
            "type": "contour"
           }
          ],
          "contourcarpet": [
           {
            "colorbar": {
             "outlinewidth": 0,
             "ticks": ""
            },
            "type": "contourcarpet"
           }
          ],
          "heatmap": [
           {
            "colorbar": {
             "outlinewidth": 0,
             "ticks": ""
            },
            "colorscale": [
             [
              0,
              "#0d0887"
             ],
             [
              0.1111111111111111,
              "#46039f"
             ],
             [
              0.2222222222222222,
              "#7201a8"
             ],
             [
              0.3333333333333333,
              "#9c179e"
             ],
             [
              0.4444444444444444,
              "#bd3786"
             ],
             [
              0.5555555555555556,
              "#d8576b"
             ],
             [
              0.6666666666666666,
              "#ed7953"
             ],
             [
              0.7777777777777778,
              "#fb9f3a"
             ],
             [
              0.8888888888888888,
              "#fdca26"
             ],
             [
              1,
              "#f0f921"
             ]
            ],
            "type": "heatmap"
           }
          ],
          "heatmapgl": [
           {
            "colorbar": {
             "outlinewidth": 0,
             "ticks": ""
            },
            "colorscale": [
             [
              0,
              "#0d0887"
             ],
             [
              0.1111111111111111,
              "#46039f"
             ],
             [
              0.2222222222222222,
              "#7201a8"
             ],
             [
              0.3333333333333333,
              "#9c179e"
             ],
             [
              0.4444444444444444,
              "#bd3786"
             ],
             [
              0.5555555555555556,
              "#d8576b"
             ],
             [
              0.6666666666666666,
              "#ed7953"
             ],
             [
              0.7777777777777778,
              "#fb9f3a"
             ],
             [
              0.8888888888888888,
              "#fdca26"
             ],
             [
              1,
              "#f0f921"
             ]
            ],
            "type": "heatmapgl"
           }
          ],
          "histogram": [
           {
            "marker": {
             "colorbar": {
              "outlinewidth": 0,
              "ticks": ""
             }
            },
            "type": "histogram"
           }
          ],
          "histogram2d": [
           {
            "colorbar": {
             "outlinewidth": 0,
             "ticks": ""
            },
            "colorscale": [
             [
              0,
              "#0d0887"
             ],
             [
              0.1111111111111111,
              "#46039f"
             ],
             [
              0.2222222222222222,
              "#7201a8"
             ],
             [
              0.3333333333333333,
              "#9c179e"
             ],
             [
              0.4444444444444444,
              "#bd3786"
             ],
             [
              0.5555555555555556,
              "#d8576b"
             ],
             [
              0.6666666666666666,
              "#ed7953"
             ],
             [
              0.7777777777777778,
              "#fb9f3a"
             ],
             [
              0.8888888888888888,
              "#fdca26"
             ],
             [
              1,
              "#f0f921"
             ]
            ],
            "type": "histogram2d"
           }
          ],
          "histogram2dcontour": [
           {
            "colorbar": {
             "outlinewidth": 0,
             "ticks": ""
            },
            "colorscale": [
             [
              0,
              "#0d0887"
             ],
             [
              0.1111111111111111,
              "#46039f"
             ],
             [
              0.2222222222222222,
              "#7201a8"
             ],
             [
              0.3333333333333333,
              "#9c179e"
             ],
             [
              0.4444444444444444,
              "#bd3786"
             ],
             [
              0.5555555555555556,
              "#d8576b"
             ],
             [
              0.6666666666666666,
              "#ed7953"
             ],
             [
              0.7777777777777778,
              "#fb9f3a"
             ],
             [
              0.8888888888888888,
              "#fdca26"
             ],
             [
              1,
              "#f0f921"
             ]
            ],
            "type": "histogram2dcontour"
           }
          ],
          "mesh3d": [
           {
            "colorbar": {
             "outlinewidth": 0,
             "ticks": ""
            },
            "type": "mesh3d"
           }
          ],
          "parcoords": [
           {
            "line": {
             "colorbar": {
              "outlinewidth": 0,
              "ticks": ""
             }
            },
            "type": "parcoords"
           }
          ],
          "pie": [
           {
            "automargin": true,
            "type": "pie"
           }
          ],
          "scatter": [
           {
            "marker": {
             "colorbar": {
              "outlinewidth": 0,
              "ticks": ""
             }
            },
            "type": "scatter"
           }
          ],
          "scatter3d": [
           {
            "line": {
             "colorbar": {
              "outlinewidth": 0,
              "ticks": ""
             }
            },
            "marker": {
             "colorbar": {
              "outlinewidth": 0,
              "ticks": ""
             }
            },
            "type": "scatter3d"
           }
          ],
          "scattercarpet": [
           {
            "marker": {
             "colorbar": {
              "outlinewidth": 0,
              "ticks": ""
             }
            },
            "type": "scattercarpet"
           }
          ],
          "scattergeo": [
           {
            "marker": {
             "colorbar": {
              "outlinewidth": 0,
              "ticks": ""
             }
            },
            "type": "scattergeo"
           }
          ],
          "scattergl": [
           {
            "marker": {
             "colorbar": {
              "outlinewidth": 0,
              "ticks": ""
             }
            },
            "type": "scattergl"
           }
          ],
          "scattermapbox": [
           {
            "marker": {
             "colorbar": {
              "outlinewidth": 0,
              "ticks": ""
             }
            },
            "type": "scattermapbox"
           }
          ],
          "scatterpolar": [
           {
            "marker": {
             "colorbar": {
              "outlinewidth": 0,
              "ticks": ""
             }
            },
            "type": "scatterpolar"
           }
          ],
          "scatterpolargl": [
           {
            "marker": {
             "colorbar": {
              "outlinewidth": 0,
              "ticks": ""
             }
            },
            "type": "scatterpolargl"
           }
          ],
          "scatterternary": [
           {
            "marker": {
             "colorbar": {
              "outlinewidth": 0,
              "ticks": ""
             }
            },
            "type": "scatterternary"
           }
          ],
          "surface": [
           {
            "colorbar": {
             "outlinewidth": 0,
             "ticks": ""
            },
            "colorscale": [
             [
              0,
              "#0d0887"
             ],
             [
              0.1111111111111111,
              "#46039f"
             ],
             [
              0.2222222222222222,
              "#7201a8"
             ],
             [
              0.3333333333333333,
              "#9c179e"
             ],
             [
              0.4444444444444444,
              "#bd3786"
             ],
             [
              0.5555555555555556,
              "#d8576b"
             ],
             [
              0.6666666666666666,
              "#ed7953"
             ],
             [
              0.7777777777777778,
              "#fb9f3a"
             ],
             [
              0.8888888888888888,
              "#fdca26"
             ],
             [
              1,
              "#f0f921"
             ]
            ],
            "type": "surface"
           }
          ],
          "table": [
           {
            "cells": {
             "fill": {
              "color": "#EBF0F8"
             },
             "line": {
              "color": "white"
             }
            },
            "header": {
             "fill": {
              "color": "#C8D4E3"
             },
             "line": {
              "color": "white"
             }
            },
            "type": "table"
           }
          ]
         },
         "layout": {
          "annotationdefaults": {
           "arrowcolor": "#2a3f5f",
           "arrowhead": 0,
           "arrowwidth": 1
          },
          "autotypenumbers": "strict",
          "coloraxis": {
           "colorbar": {
            "outlinewidth": 0,
            "ticks": ""
           }
          },
          "colorscale": {
           "diverging": [
            [
             0,
             "#8e0152"
            ],
            [
             0.1,
             "#c51b7d"
            ],
            [
             0.2,
             "#de77ae"
            ],
            [
             0.3,
             "#f1b6da"
            ],
            [
             0.4,
             "#fde0ef"
            ],
            [
             0.5,
             "#f7f7f7"
            ],
            [
             0.6,
             "#e6f5d0"
            ],
            [
             0.7,
             "#b8e186"
            ],
            [
             0.8,
             "#7fbc41"
            ],
            [
             0.9,
             "#4d9221"
            ],
            [
             1,
             "#276419"
            ]
           ],
           "sequential": [
            [
             0,
             "#0d0887"
            ],
            [
             0.1111111111111111,
             "#46039f"
            ],
            [
             0.2222222222222222,
             "#7201a8"
            ],
            [
             0.3333333333333333,
             "#9c179e"
            ],
            [
             0.4444444444444444,
             "#bd3786"
            ],
            [
             0.5555555555555556,
             "#d8576b"
            ],
            [
             0.6666666666666666,
             "#ed7953"
            ],
            [
             0.7777777777777778,
             "#fb9f3a"
            ],
            [
             0.8888888888888888,
             "#fdca26"
            ],
            [
             1,
             "#f0f921"
            ]
           ],
           "sequentialminus": [
            [
             0,
             "#0d0887"
            ],
            [
             0.1111111111111111,
             "#46039f"
            ],
            [
             0.2222222222222222,
             "#7201a8"
            ],
            [
             0.3333333333333333,
             "#9c179e"
            ],
            [
             0.4444444444444444,
             "#bd3786"
            ],
            [
             0.5555555555555556,
             "#d8576b"
            ],
            [
             0.6666666666666666,
             "#ed7953"
            ],
            [
             0.7777777777777778,
             "#fb9f3a"
            ],
            [
             0.8888888888888888,
             "#fdca26"
            ],
            [
             1,
             "#f0f921"
            ]
           ]
          },
          "colorway": [
           "#636efa",
           "#EF553B",
           "#00cc96",
           "#ab63fa",
           "#FFA15A",
           "#19d3f3",
           "#FF6692",
           "#B6E880",
           "#FF97FF",
           "#FECB52"
          ],
          "font": {
           "color": "#2a3f5f"
          },
          "geo": {
           "bgcolor": "white",
           "lakecolor": "white",
           "landcolor": "#E5ECF6",
           "showlakes": true,
           "showland": true,
           "subunitcolor": "white"
          },
          "hoverlabel": {
           "align": "left"
          },
          "hovermode": "closest",
          "mapbox": {
           "style": "light"
          },
          "paper_bgcolor": "white",
          "plot_bgcolor": "#E5ECF6",
          "polar": {
           "angularaxis": {
            "gridcolor": "white",
            "linecolor": "white",
            "ticks": ""
           },
           "bgcolor": "#E5ECF6",
           "radialaxis": {
            "gridcolor": "white",
            "linecolor": "white",
            "ticks": ""
           }
          },
          "scene": {
           "xaxis": {
            "backgroundcolor": "#E5ECF6",
            "gridcolor": "white",
            "gridwidth": 2,
            "linecolor": "white",
            "showbackground": true,
            "ticks": "",
            "zerolinecolor": "white"
           },
           "yaxis": {
            "backgroundcolor": "#E5ECF6",
            "gridcolor": "white",
            "gridwidth": 2,
            "linecolor": "white",
            "showbackground": true,
            "ticks": "",
            "zerolinecolor": "white"
           },
           "zaxis": {
            "backgroundcolor": "#E5ECF6",
            "gridcolor": "white",
            "gridwidth": 2,
            "linecolor": "white",
            "showbackground": true,
            "ticks": "",
            "zerolinecolor": "white"
           }
          },
          "shapedefaults": {
           "line": {
            "color": "#2a3f5f"
           }
          },
          "ternary": {
           "aaxis": {
            "gridcolor": "white",
            "linecolor": "white",
            "ticks": ""
           },
           "baxis": {
            "gridcolor": "white",
            "linecolor": "white",
            "ticks": ""
           },
           "bgcolor": "#E5ECF6",
           "caxis": {
            "gridcolor": "white",
            "linecolor": "white",
            "ticks": ""
           }
          },
          "title": {
           "x": 0.05
          },
          "xaxis": {
           "automargin": true,
           "gridcolor": "white",
           "linecolor": "white",
           "ticks": "",
           "title": {
            "standoff": 15
           },
           "zerolinecolor": "white",
           "zerolinewidth": 2
          },
          "yaxis": {
           "automargin": true,
           "gridcolor": "white",
           "linecolor": "white",
           "ticks": "",
           "title": {
            "standoff": 15
           },
           "zerolinecolor": "white",
           "zerolinewidth": 2
          }
         }
        },
        "xaxis": {
         "anchor": "y",
         "domain": [
          0,
          1
         ],
         "title": {
          "text": "Region"
         }
        },
        "yaxis": {
         "anchor": "x",
         "domain": [
          0,
          1
         ],
         "title": {
          "text": "count"
         }
        }
       }
      }
     },
     "metadata": {}
    }
   ],
   "metadata": {}
  },
  {
   "cell_type": "code",
   "execution_count": 14,
   "source": [
    "#Apartment locations\n",
    "rentals['Region'].unique"
   ],
   "outputs": [
    {
     "output_type": "execute_result",
     "data": {
      "text/plain": [
       "<bound method Series.unique of 0            Mitte\n",
       "1        Kreuzberg\n",
       "2         Köpenick\n",
       "3      Wilmersdorf\n",
       "4        Kreuzberg\n",
       "          ...     \n",
       "759        Wedding\n",
       "760        Wedding\n",
       "761    Wilmersdorf\n",
       "762       Köpenick\n",
       "763       Neukölln\n",
       "Name: Region, Length: 764, dtype: object>"
      ]
     },
     "metadata": {},
     "execution_count": 14
    }
   ],
   "metadata": {}
  },
  {
   "cell_type": "code",
   "execution_count": 22,
   "source": [
    "rentals['Rent'].mean()\n",
    "rentals['Rent'].median()\n",
    "rentals['Rent'].mode()"
   ],
   "outputs": [
    {
     "output_type": "execute_result",
     "data": {
      "text/plain": [
       "0    1200.0\n",
       "1    1650.0\n",
       "dtype: float64"
      ]
     },
     "metadata": {},
     "execution_count": 22
    }
   ],
   "metadata": {}
  },
  {
   "cell_type": "code",
   "execution_count": 23,
   "source": [
    "rentals.describe"
   ],
   "outputs": [
    {
     "output_type": "execute_result",
     "data": {
      "text/plain": [
       "<bound method NDFrame.describe of           Region        Condition  Rooms     Rent  Year_Construction   Space\n",
       "0          Mitte   first_time_use    4.0  2659.00               2019  117.20\n",
       "1      Kreuzberg   first_time_use    1.0  1200.00               2020   29.33\n",
       "2       Köpenick        well_kept    2.0   979.00               1997   83.61\n",
       "3    Wilmersdorf        well_kept    4.0  1830.22               1900  171.18\n",
       "4      Kreuzberg   first_time_use    2.0  2272.00               2020   88.27\n",
       "..           ...              ...    ...      ...                ...     ...\n",
       "759      Wedding   mint_condition    1.0   959.00               2017   27.80\n",
       "760      Wedding   mint_condition    1.0   649.00               2017   20.50\n",
       "761  Wilmersdorf   mint_condition    4.0  2750.00               2017  110.00\n",
       "762     Köpenick        well_kept    2.0  1259.00               2017   91.20\n",
       "763     Neukölln  fully_renovated    2.0   888.00               1990   68.48\n",
       "\n",
       "[764 rows x 6 columns]>"
      ]
     },
     "metadata": {},
     "execution_count": 23
    }
   ],
   "metadata": {}
  },
  {
   "cell_type": "code",
   "execution_count": 24,
   "source": [
    "rentals.query('Region == \"Mitte\"')"
   ],
   "outputs": [
    {
     "output_type": "execute_result",
     "data": {
      "text/html": [
       "<div>\n",
       "<style scoped>\n",
       "    .dataframe tbody tr th:only-of-type {\n",
       "        vertical-align: middle;\n",
       "    }\n",
       "\n",
       "    .dataframe tbody tr th {\n",
       "        vertical-align: top;\n",
       "    }\n",
       "\n",
       "    .dataframe thead th {\n",
       "        text-align: right;\n",
       "    }\n",
       "</style>\n",
       "<table border=\"1\" class=\"dataframe\">\n",
       "  <thead>\n",
       "    <tr style=\"text-align: right;\">\n",
       "      <th></th>\n",
       "      <th>Region</th>\n",
       "      <th>Condition</th>\n",
       "      <th>Rooms</th>\n",
       "      <th>Rent</th>\n",
       "      <th>Year_Construction</th>\n",
       "      <th>Space</th>\n",
       "    </tr>\n",
       "  </thead>\n",
       "  <tbody>\n",
       "    <tr>\n",
       "      <th>0</th>\n",
       "      <td>Mitte</td>\n",
       "      <td>first_time_use</td>\n",
       "      <td>4.0</td>\n",
       "      <td>2659.00</td>\n",
       "      <td>2019</td>\n",
       "      <td>117.20</td>\n",
       "    </tr>\n",
       "    <tr>\n",
       "      <th>6</th>\n",
       "      <td>Mitte</td>\n",
       "      <td>mint_condition</td>\n",
       "      <td>2.0</td>\n",
       "      <td>1509.45</td>\n",
       "      <td>2015</td>\n",
       "      <td>61.61</td>\n",
       "    </tr>\n",
       "    <tr>\n",
       "      <th>10</th>\n",
       "      <td>Mitte</td>\n",
       "      <td>first_time_use</td>\n",
       "      <td>4.0</td>\n",
       "      <td>2499.00</td>\n",
       "      <td>2019</td>\n",
       "      <td>125.20</td>\n",
       "    </tr>\n",
       "    <tr>\n",
       "      <th>12</th>\n",
       "      <td>Mitte</td>\n",
       "      <td>first_time_use</td>\n",
       "      <td>3.0</td>\n",
       "      <td>2500.00</td>\n",
       "      <td>2019</td>\n",
       "      <td>81.10</td>\n",
       "    </tr>\n",
       "    <tr>\n",
       "      <th>15</th>\n",
       "      <td>Mitte</td>\n",
       "      <td>well_kept</td>\n",
       "      <td>2.0</td>\n",
       "      <td>1505.60</td>\n",
       "      <td>2018</td>\n",
       "      <td>75.28</td>\n",
       "    </tr>\n",
       "    <tr>\n",
       "      <th>...</th>\n",
       "      <td>...</td>\n",
       "      <td>...</td>\n",
       "      <td>...</td>\n",
       "      <td>...</td>\n",
       "      <td>...</td>\n",
       "      <td>...</td>\n",
       "    </tr>\n",
       "    <tr>\n",
       "      <th>736</th>\n",
       "      <td>Mitte</td>\n",
       "      <td>well_kept</td>\n",
       "      <td>3.0</td>\n",
       "      <td>3500.00</td>\n",
       "      <td>2009</td>\n",
       "      <td>165.00</td>\n",
       "    </tr>\n",
       "    <tr>\n",
       "      <th>741</th>\n",
       "      <td>Mitte</td>\n",
       "      <td>mint_condition</td>\n",
       "      <td>4.0</td>\n",
       "      <td>3925.00</td>\n",
       "      <td>2016</td>\n",
       "      <td>138.00</td>\n",
       "    </tr>\n",
       "    <tr>\n",
       "      <th>748</th>\n",
       "      <td>Mitte</td>\n",
       "      <td>mint_condition</td>\n",
       "      <td>4.0</td>\n",
       "      <td>4040.00</td>\n",
       "      <td>2015</td>\n",
       "      <td>176.50</td>\n",
       "    </tr>\n",
       "    <tr>\n",
       "      <th>751</th>\n",
       "      <td>Mitte</td>\n",
       "      <td>no_information</td>\n",
       "      <td>1.5</td>\n",
       "      <td>770.00</td>\n",
       "      <td>1997</td>\n",
       "      <td>35.00</td>\n",
       "    </tr>\n",
       "    <tr>\n",
       "      <th>754</th>\n",
       "      <td>Mitte</td>\n",
       "      <td>no_information</td>\n",
       "      <td>3.0</td>\n",
       "      <td>2155.50</td>\n",
       "      <td>1879</td>\n",
       "      <td>86.42</td>\n",
       "    </tr>\n",
       "  </tbody>\n",
       "</table>\n",
       "<p>153 rows × 6 columns</p>\n",
       "</div>"
      ],
      "text/plain": [
       "    Region       Condition  Rooms     Rent  Year_Construction   Space\n",
       "0    Mitte  first_time_use    4.0  2659.00               2019  117.20\n",
       "6    Mitte  mint_condition    2.0  1509.45               2015   61.61\n",
       "10   Mitte  first_time_use    4.0  2499.00               2019  125.20\n",
       "12   Mitte  first_time_use    3.0  2500.00               2019   81.10\n",
       "15   Mitte       well_kept    2.0  1505.60               2018   75.28\n",
       "..     ...             ...    ...      ...                ...     ...\n",
       "736  Mitte       well_kept    3.0  3500.00               2009  165.00\n",
       "741  Mitte  mint_condition    4.0  3925.00               2016  138.00\n",
       "748  Mitte  mint_condition    4.0  4040.00               2015  176.50\n",
       "751  Mitte  no_information    1.5   770.00               1997   35.00\n",
       "754  Mitte  no_information    3.0  2155.50               1879   86.42\n",
       "\n",
       "[153 rows x 6 columns]"
      ]
     },
     "metadata": {},
     "execution_count": 24
    }
   ],
   "metadata": {}
  },
  {
   "cell_type": "code",
   "execution_count": null,
   "source": [],
   "outputs": [],
   "metadata": {}
  }
 ],
 "metadata": {
  "orig_nbformat": 4,
  "language_info": {
   "name": "python",
   "version": "3.8.3",
   "mimetype": "text/x-python",
   "codemirror_mode": {
    "name": "ipython",
    "version": 3
   },
   "pygments_lexer": "ipython3",
   "nbconvert_exporter": "python",
   "file_extension": ".py"
  },
  "kernelspec": {
   "name": "python3",
   "display_name": "Python 3.8.3 64-bit ('base': conda)"
  },
  "interpreter": {
   "hash": "5e7e15893061e0f8fed6b666603722c6bcf0420e4e3e31937621fb2e96636e69"
  }
 },
 "nbformat": 4,
 "nbformat_minor": 2
}